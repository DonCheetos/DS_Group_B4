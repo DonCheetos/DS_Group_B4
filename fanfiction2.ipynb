{
 "cells": [
  {
   "cell_type": "code",
   "execution_count": 1,
   "id": "6abedcb4-6305-4476-83a5-a399abbc5c5c",
   "metadata": {},
   "outputs": [],
   "source": [
    "import pandas as pd\n",
    "import numpy as np\n",
    "import matplotlib.pyplot as plt\n",
    "import re\n",
    "from collections import defaultdict\n",
    "from sklearn.model_selection import train_test_split\n",
    "from sklearn.feature_extraction.text import TfidfVectorizer\n",
    "from sklearn.linear_model import LogisticRegression\n",
    "from sklearn.metrics import classification_report, accuracy_score\n",
    "from sklearn.ensemble import RandomForestClassifier\n",
    "from sklearn.model_selection import train_test_split\n",
    "from sklearn.preprocessing import OneHotEncoder\n",
    "from sklearn.compose import ColumnTransformer\n",
    "from sklearn.pipeline import Pipeline\n",
    "from sklearn.metrics import classification_report"
   ]
  },
  {
   "cell_type": "code",
   "execution_count": 3,
   "id": "35c3e080-32eb-4f3b-81d6-73503812d714",
   "metadata": {},
   "outputs": [
    {
     "name": "stdout",
     "output_type": "stream",
     "text": [
      "(5742878, 16)\n"
     ]
    }
   ],
   "source": [
    "df = pd.read_csv(\"filtered_usable_df.csv\", sep=\";\")\n",
    "print(df.shape)"
   ]
  },
  {
   "cell_type": "code",
   "execution_count": 5,
   "id": "bb806c49-9fcb-41d3-9355-b99978470a2a",
   "metadata": {},
   "outputs": [
    {
     "data": {
      "text/html": [
       "<div>\n",
       "<style scoped>\n",
       "    .dataframe tbody tr th:only-of-type {\n",
       "        vertical-align: middle;\n",
       "    }\n",
       "\n",
       "    .dataframe tbody tr th {\n",
       "        vertical-align: top;\n",
       "    }\n",
       "\n",
       "    .dataframe thead th {\n",
       "        text-align: right;\n",
       "    }\n",
       "</style>\n",
       "<table border=\"1\" class=\"dataframe\">\n",
       "  <thead>\n",
       "    <tr style=\"text-align: right;\">\n",
       "      <th></th>\n",
       "      <th>Title</th>\n",
       "      <th>Author</th>\n",
       "      <th>Category</th>\n",
       "      <th>Genre</th>\n",
       "      <th>Language</th>\n",
       "      <th>Status</th>\n",
       "      <th>Published</th>\n",
       "      <th>Updated</th>\n",
       "      <th>Rating</th>\n",
       "      <th>Summary</th>\n",
       "      <th>word_count</th>\n",
       "      <th>chapter_count</th>\n",
       "      <th>story_id</th>\n",
       "      <th>processed_title</th>\n",
       "      <th>processed_summary</th>\n",
       "      <th>combined_text</th>\n",
       "    </tr>\n",
       "  </thead>\n",
       "  <tbody>\n",
       "    <tr>\n",
       "      <th>0</th>\n",
       "      <td>The Distant Strains of Triumph</td>\n",
       "      <td>SpartanDelta2</td>\n",
       "      <td>Halo, Mass Effect</td>\n",
       "      <td>Drama, Sci-Fi</td>\n",
       "      <td>English</td>\n",
       "      <td>Completed</td>\n",
       "      <td>2013-07-15</td>\n",
       "      <td>2013-07-15</td>\n",
       "      <td>M</td>\n",
       "      <td>A project for my class, a challenge from my te...</td>\n",
       "      <td>1180</td>\n",
       "      <td>1</td>\n",
       "      <td>9493934</td>\n",
       "      <td>['distant', 'strain', 'triumph']</td>\n",
       "      <td>['project', 'class', 'challenge', 'teacher', '...</td>\n",
       "      <td>['distant', 'strain', 'triumph', 'project', 'c...</td>\n",
       "    </tr>\n",
       "    <tr>\n",
       "      <th>1</th>\n",
       "      <td>Mass Effect: Beyond</td>\n",
       "      <td>Cunningham-Hughes</td>\n",
       "      <td>Halo, Mass Effect</td>\n",
       "      <td>Adventure, Sci-Fi</td>\n",
       "      <td>English</td>\n",
       "      <td>Completed</td>\n",
       "      <td>2012-10-01</td>\n",
       "      <td>2012-10-01</td>\n",
       "      <td>T</td>\n",
       "      <td>A hardcore Mass Effect fan's retelling of the ...</td>\n",
       "      <td>9971</td>\n",
       "      <td>1</td>\n",
       "      <td>8573953</td>\n",
       "      <td>['mass', 'effect']</td>\n",
       "      <td>['hardcore', 'mass', 'effect', 'fan', 'retelli...</td>\n",
       "      <td>['mass', 'effect', 'hardcore', 'mass', 'effect...</td>\n",
       "    </tr>\n",
       "    <tr>\n",
       "      <th>2</th>\n",
       "      <td>Chaos Infinitium</td>\n",
       "      <td>Sysero of Cain</td>\n",
       "      <td>Halo, Mass Effect</td>\n",
       "      <td>Adventure, Sci-Fi</td>\n",
       "      <td>English</td>\n",
       "      <td>Completed</td>\n",
       "      <td>2011-03-11</td>\n",
       "      <td>2011-11-17</td>\n",
       "      <td>T</td>\n",
       "      <td>First Contact never seems to go well. But thin...</td>\n",
       "      <td>19447</td>\n",
       "      <td>5</td>\n",
       "      <td>6816070</td>\n",
       "      <td>['chaos', 'infinitium']</td>\n",
       "      <td>['contact', 'thing', 'worse', 'happens', 'civi...</td>\n",
       "      <td>['chaos', 'infinitium', 'contact', 'thing', 'w...</td>\n",
       "    </tr>\n",
       "    <tr>\n",
       "      <th>3</th>\n",
       "      <td>Tools of Defiance</td>\n",
       "      <td>Magisking</td>\n",
       "      <td>Halo, Mass Effect</td>\n",
       "      <td>Angst, Tragedy</td>\n",
       "      <td>English</td>\n",
       "      <td>Completed</td>\n",
       "      <td>2013-12-22</td>\n",
       "      <td>2013-12-22</td>\n",
       "      <td>T</td>\n",
       "      <td>A One-shot that takes place in the Defiance un...</td>\n",
       "      <td>997</td>\n",
       "      <td>1</td>\n",
       "      <td>9946669</td>\n",
       "      <td>['tool', 'defiance']</td>\n",
       "      <td>['oneshot', 'take', 'place', 'defiance', 'univ...</td>\n",
       "      <td>['tool', 'defiance', 'oneshot', 'take', 'place...</td>\n",
       "    </tr>\n",
       "    <tr>\n",
       "      <th>4</th>\n",
       "      <td>Mass Effect New Origins V2</td>\n",
       "      <td>erttheking</td>\n",
       "      <td>Halo, Mass Effect</td>\n",
       "      <td>Romance, Sci-Fi</td>\n",
       "      <td>English</td>\n",
       "      <td>Completed</td>\n",
       "      <td>2010-10-05</td>\n",
       "      <td>2012-06-09</td>\n",
       "      <td>T</td>\n",
       "      <td>On the dawn of the 27th century, the UNSC disc...</td>\n",
       "      <td>442687</td>\n",
       "      <td>109</td>\n",
       "      <td>6376514</td>\n",
       "      <td>['mass', 'effect', 'new', 'origin', 'v']</td>\n",
       "      <td>['dawn', 'th', 'century', 'unsc', 'discovers',...</td>\n",
       "      <td>['mass', 'effect', 'new', 'origin', 'v', 'dawn...</td>\n",
       "    </tr>\n",
       "  </tbody>\n",
       "</table>\n",
       "</div>"
      ],
      "text/plain": [
       "                            Title             Author           Category  \\\n",
       "0  The Distant Strains of Triumph      SpartanDelta2  Halo, Mass Effect   \n",
       "1             Mass Effect: Beyond  Cunningham-Hughes  Halo, Mass Effect   \n",
       "2                Chaos Infinitium     Sysero of Cain  Halo, Mass Effect   \n",
       "3               Tools of Defiance          Magisking  Halo, Mass Effect   \n",
       "4      Mass Effect New Origins V2         erttheking  Halo, Mass Effect   \n",
       "\n",
       "               Genre Language     Status   Published     Updated Rating  \\\n",
       "0      Drama, Sci-Fi  English  Completed  2013-07-15  2013-07-15      M   \n",
       "1  Adventure, Sci-Fi  English  Completed  2012-10-01  2012-10-01      T   \n",
       "2  Adventure, Sci-Fi  English  Completed  2011-03-11  2011-11-17      T   \n",
       "3     Angst, Tragedy  English  Completed  2013-12-22  2013-12-22      T   \n",
       "4    Romance, Sci-Fi  English  Completed  2010-10-05  2012-06-09      T   \n",
       "\n",
       "                                             Summary  word_count  \\\n",
       "0  A project for my class, a challenge from my te...        1180   \n",
       "1  A hardcore Mass Effect fan's retelling of the ...        9971   \n",
       "2  First Contact never seems to go well. But thin...       19447   \n",
       "3  A One-shot that takes place in the Defiance un...         997   \n",
       "4  On the dawn of the 27th century, the UNSC disc...      442687   \n",
       "\n",
       "   chapter_count  story_id                           processed_title  \\\n",
       "0              1   9493934          ['distant', 'strain', 'triumph']   \n",
       "1              1   8573953                        ['mass', 'effect']   \n",
       "2              5   6816070                   ['chaos', 'infinitium']   \n",
       "3              1   9946669                      ['tool', 'defiance']   \n",
       "4            109   6376514  ['mass', 'effect', 'new', 'origin', 'v']   \n",
       "\n",
       "                                   processed_summary  \\\n",
       "0  ['project', 'class', 'challenge', 'teacher', '...   \n",
       "1  ['hardcore', 'mass', 'effect', 'fan', 'retelli...   \n",
       "2  ['contact', 'thing', 'worse', 'happens', 'civi...   \n",
       "3  ['oneshot', 'take', 'place', 'defiance', 'univ...   \n",
       "4  ['dawn', 'th', 'century', 'unsc', 'discovers',...   \n",
       "\n",
       "                                       combined_text  \n",
       "0  ['distant', 'strain', 'triumph', 'project', 'c...  \n",
       "1  ['mass', 'effect', 'hardcore', 'mass', 'effect...  \n",
       "2  ['chaos', 'infinitium', 'contact', 'thing', 'w...  \n",
       "3  ['tool', 'defiance', 'oneshot', 'take', 'place...  \n",
       "4  ['mass', 'effect', 'new', 'origin', 'v', 'dawn...  "
      ]
     },
     "execution_count": 5,
     "metadata": {},
     "output_type": "execute_result"
    }
   ],
   "source": [
    "df.head()"
   ]
  },
  {
   "cell_type": "code",
   "execution_count": 7,
   "id": "86301980-1421-4c7e-afd2-df2ac229a75e",
   "metadata": {},
   "outputs": [],
   "source": [
    "# Define features and target variable\n",
    "features = ['combined_text', 'processed_title', 'processed_summary', 'Genre']\n",
    "target = 'Category'\n",
    "\n",
    "X = df[features]\n",
    "y = df[target]"
   ]
  },
  {
   "cell_type": "code",
   "execution_count": 8,
   "id": "2bebff02-591d-4e00-a72b-13d58c9bd29e",
   "metadata": {},
   "outputs": [],
   "source": [
    "text_columns = ['combined_text', 'processed_title', 'processed_summary']\n",
    "\n",
    "# Initialize a TfidfVectorizer for text processing\n",
    "tfidf = TfidfVectorizer(max_features=5000)  # Adjust max_features based on dataset size\n"
   ]
  },
  {
   "cell_type": "code",
   "execution_count": 9,
   "id": "570d3f78-6453-4eed-b195-dde1a5b59925",
   "metadata": {},
   "outputs": [],
   "source": [
    "categorical_columns = ['Genre']\n",
    "\n",
    "# Initialize a OneHotEncoder for categorical processing\n",
    "one_hot = OneHotEncoder(handle_unknown='ignore')\n"
   ]
  },
  {
   "cell_type": "code",
   "execution_count": 10,
   "id": "83ca69eb-8724-4936-b2f0-de1b86047573",
   "metadata": {},
   "outputs": [],
   "source": [
    "from sklearn.compose import make_column_transformer\n",
    "\n",
    "preprocessor = make_column_transformer(\n",
    "    (tfidf, 'combined_text'),\n",
    "    (tfidf, 'processed_title'),\n",
    "    (tfidf, 'processed_summary'),\n",
    "    (one_hot, ['Genre']),\n",
    "    remainder='drop'  # Drop any unspecified columns\n",
    ")\n"
   ]
  },
  {
   "cell_type": "code",
   "execution_count": null,
   "id": "bb5a1c32-296b-49c5-b8ec-632ce926baa8",
   "metadata": {},
   "outputs": [],
   "source": [
    "classifier = RandomForestClassifier(n_estimators=100, random_state=42, n_jobs=-1)"
   ]
  },
  {
   "cell_type": "code",
   "execution_count": 11,
   "id": "13fa7a66-e9c1-40e2-99a1-f7f808319577",
   "metadata": {},
   "outputs": [],
   "source": [
    "# Split the data into training and testing sets\n",
    "X_train, X_test, y_train, y_test = train_test_split(X, y, test_size=0.2, random_state=42)\n"
   ]
  },
  {
   "cell_type": "code",
   "execution_count": 12,
   "id": "13f35f33-9778-4662-bd7a-aaa6ade8fe0e",
   "metadata": {},
   "outputs": [],
   "source": [
    "pipeline = Pipeline([\n",
    "    ('preprocessor', preprocessor),\n",
    "    ('classifier', RandomForestClassifier(n_estimators=100, random_state=42))\n",
    "])\n"
   ]
  },
  {
   "cell_type": "code",
   "execution_count": null,
   "id": "0b2ca17b-9034-48c7-b8e5-e7666ce59d85",
   "metadata": {},
   "outputs": [],
   "source": [
    "# Fit the pipeline to the training data\n",
    "pipeline.fit(X_train, y_train)\n"
   ]
  },
  {
   "cell_type": "code",
   "execution_count": null,
   "id": "6c036d14-41e2-4202-8627-ffe9a86d8aff",
   "metadata": {},
   "outputs": [],
   "source": [
    "# Make predictions\n",
    "y_pred = pipeline.predict(X_test)\n",
    "\n",
    "# Evaluate the model\n",
    "print(classification_report(y_test, y_pred))\n"
   ]
  },
  {
   "cell_type": "code",
   "execution_count": null,
   "id": "b16e6bd3-1a54-4910-9228-ed6024dab8a8",
   "metadata": {},
   "outputs": [],
   "source": [
    "from joblib import dump\n",
    "\n",
    "# Save the trained model or pipeline to a file\n",
    "dump(pipeline, 'trained_pipeline.joblib')\n",
    "\n",
    "print(\"Model saved successfully as 'trained_pipeline.joblib'.\")"
   ]
  }
 ],
 "metadata": {
  "kernelspec": {
   "display_name": "Python 3 (ipykernel)",
   "language": "python",
   "name": "python3"
  },
  "language_info": {
   "codemirror_mode": {
    "name": "ipython",
    "version": 3
   },
   "file_extension": ".py",
   "mimetype": "text/x-python",
   "name": "python",
   "nbconvert_exporter": "python",
   "pygments_lexer": "ipython3",
   "version": "3.12.7"
  }
 },
 "nbformat": 4,
 "nbformat_minor": 5
}
