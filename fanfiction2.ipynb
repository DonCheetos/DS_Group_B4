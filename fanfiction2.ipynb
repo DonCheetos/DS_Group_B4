{
 "cells": [
  {
   "cell_type": "code",
   "execution_count": 1,
   "id": "6abedcb4-6305-4476-83a5-a399abbc5c5c",
   "metadata": {},
   "outputs": [],
   "source": [
    "import pandas as pd\n",
    "import numpy as np\n",
    "import matplotlib.pyplot as plt\n",
    "import re\n",
    "from collections import defaultdict\n",
    "from sklearn.model_selection import train_test_split\n",
    "from sklearn.feature_extraction.text import TfidfVectorizer\n",
    "from sklearn.linear_model import LogisticRegression\n",
    "from sklearn.metrics import classification_report, accuracy_score\n",
    "from sklearn.ensemble import RandomForestClassifier\n",
    "from sklearn.model_selection import train_test_split\n",
    "from sklearn.preprocessing import OneHotEncoder\n",
    "from sklearn.compose import ColumnTransformer\n",
    "from sklearn.pipeline import Pipeline\n",
    "from sklearn.metrics import classification_report\n",
    "from nltk.corpus import stopwords\n",
    "from joblib import load"
   ]
  },
  {
   "cell_type": "code",
   "execution_count": 2,
   "id": "d76914be-7e47-46c1-a8d4-4c2eeddddcdd",
   "metadata": {},
   "outputs": [],
   "source": [
    "model = load('LightGBM_good_3.joblib')"
   ]
  },
  {
   "cell_type": "code",
   "execution_count": 3,
   "id": "b413da20-eb51-4cc4-808d-243ba3946a03",
   "metadata": {},
   "outputs": [],
   "source": [
    "vectorizer=load('tfidf_vectorizer.pkl')"
   ]
  },
  {
   "cell_type": "code",
   "execution_count": 4,
   "id": "d038c1a4-451c-487d-b737-8fe4e1d8db47",
   "metadata": {},
   "outputs": [],
   "source": [
    "def clean_text(text):\n",
    "    # remove backslash-apostrophe \n",
    "    text = re.sub(\"\\'\", \"\", text) \n",
    "    # remove everything except alphabets \n",
    "    text = re.sub(\"[^a-zA-Z]\",\" \",text) \n",
    "    # remove whitespaces \n",
    "    text = ' '.join(text.split()) \n",
    "    # convert text to lowercase \n",
    "    text = text.lower()\n",
    "\n",
    "    return text"
   ]
  },
  {
   "cell_type": "code",
   "execution_count": 5,
   "id": "4bab4914-3197-4a2a-80cf-fcbbe86ac260",
   "metadata": {},
   "outputs": [],
   "source": [
    "stop_words = set(stopwords.words('english'))\n",
    "\n",
    "# function to remove stopwords\n",
    "def remove_stopwords(text):\n",
    "    no_stopword_text = [w for w in text.split() if not w in stop_words]\n",
    "    return ' '.join(no_stopword_text)"
   ]
  },
  {
   "cell_type": "code",
   "execution_count": 6,
   "id": "64fa09a7-cadd-4b4d-bc05-c5d5f0fd329b",
   "metadata": {},
   "outputs": [],
   "source": [
    "def predict(custom_text,model,vectorizer):\n",
    "    # Clean input text for prediction\n",
    "    custom_filtered = []\n",
    "    for i in range(len(custom_text)):\n",
    "        custom_filtered.append(remove_stopwords(clean_text(custom_text[i])))\n",
    "    \n",
    "    # Transform the custom text using the trained TF-IDF vectorizer\n",
    "    custom_text_tfidf = vectorizer.transform(custom_filtered)\n",
    "\n",
    "    # Predict the genres for the custom text\n",
    "    custom_pred = model.predict(custom_text_tfidf)\n",
    "    y=['Friendship', 'Romance', 'Drama', 'Adventure', 'Family', 'Hurt-Comfort', \n",
    "               'Suspense', 'Fantasy', 'Sci-Fi', 'Humor', 'Angst', 'Supernatural', 'Tragedy', \n",
    "               'Spiritual', 'Poetry', 'Parody', 'Mystery', 'Horror', 'Crime', 'Western']\n",
    "    # Display the predicted genres\n",
    "    predicted_genres = [y[i] for i, value in enumerate(custom_pred[0]) if value == 1]\n",
    "    print(\"Custom Text:\", custom_text[0])\n",
    "    print(\"Predicted Genres:\", predicted_genres)"
   ]
  },
  {
   "cell_type": "code",
   "execution_count": 7,
   "id": "d2b73f24-1712-466e-8a82-38c3cc8c7765",
   "metadata": {},
   "outputs": [
    {
     "name": "stdout",
     "output_type": "stream",
     "text": [
      "Custom Text: A Love Divided Two people from rival families fall in love, but their relationship is tested by betrayal, secrets, and the expectations of their families.\n",
      "Predicted Genres: ['Romance', 'Drama']\n"
     ]
    },
    {
     "name": "stdin",
     "output_type": "stream",
     "text": [
      "Sisesta argument:  exit\n"
     ]
    }
   ],
   "source": [
    "custom_text = [\"A Love Divided Two people from rival families fall in love, but their relationship is tested by betrayal, secrets, and the expectations of their families.\"]\n",
    "predict(custom_text,model,vectorizer)\n",
    "while True:\n",
    "    sisend = input(\"Sisesta argument: \")\n",
    "    if sisend.lower() == 'stop' or sisend.lower() == 'exit':\n",
    "        break\n",
    "    predict([sisend.lower()],model,vectorizer)"
   ]
  }
 ],
 "metadata": {
  "kernelspec": {
   "display_name": "Python 3 (ipykernel)",
   "language": "python",
   "name": "python3"
  },
  "language_info": {
   "codemirror_mode": {
    "name": "ipython",
    "version": 3
   },
   "file_extension": ".py",
   "mimetype": "text/x-python",
   "name": "python",
   "nbconvert_exporter": "python",
   "pygments_lexer": "ipython3",
   "version": "3.12.7"
  }
 },
 "nbformat": 4,
 "nbformat_minor": 5
}
