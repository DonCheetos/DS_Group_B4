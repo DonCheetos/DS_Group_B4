{
 "cells": [
  {
   "cell_type": "code",
   "execution_count": 1,
   "id": "6abedcb4-6305-4476-83a5-a399abbc5c5c",
   "metadata": {},
   "outputs": [],
   "source": [
    "import pandas as pd\n",
    "import numpy as np\n",
    "import matplotlib.pyplot as plt\n",
    "import re\n",
    "from collections import defaultdict\n",
    "from sklearn.model_selection import train_test_split\n",
    "from sklearn.feature_extraction.text import TfidfVectorizer\n",
    "from sklearn.linear_model import LogisticRegression\n",
    "from sklearn.metrics import classification_report, accuracy_score\n",
    "from sklearn.ensemble import RandomForestClassifier\n",
    "from sklearn.model_selection import train_test_split\n",
    "from sklearn.preprocessing import OneHotEncoder\n",
    "from sklearn.compose import ColumnTransformer\n",
    "from sklearn.pipeline import Pipeline\n",
    "from sklearn.metrics import classification_report\n",
    "from joblib import load"
   ]
  },
  {
   "cell_type": "code",
   "execution_count": null,
   "id": "d76914be-7e47-46c1-a8d4-4c2eeddddcdd",
   "metadata": {},
   "outputs": [],
   "source": [
    "model = load('LightGBM_good_2.joblib')"
   ]
  },
  {
   "cell_type": "code",
   "execution_count": null,
   "id": "b413da20-eb51-4cc4-808d-243ba3946a03",
   "metadata": {},
   "outputs": [],
   "source": [
    "vectorizer=_Loadme_"
   ]
  },
  {
   "cell_type": "code",
   "execution_count": 2,
   "id": "64fa09a7-cadd-4b4d-bc05-c5d5f0fd329b",
   "metadata": {},
   "outputs": [],
   "source": [
    "def predict(custom_text,model,vectorizer):\n",
    "    # Transform the custom text using the trained TF-IDF vectorizer\n",
    "    custom_text_tfidf = vectorizer.transform(custom_text)\n",
    "\n",
    "    # Predict the genres for the custom text\n",
    "    custom_pred = model.predict(custom_text_tfidf)\n",
    "\n",
    "    # Display the predicted genres\n",
    "    predicted_genres = [y.columns[i] for i, value in enumerate(custom_pred[0]) if value == 1]\n",
    "    print(\"Custom Text:\", custom_text[0])\n",
    "    print(\"Predicted Genres:\", predicted_genres)"
   ]
  },
  {
   "cell_type": "code",
   "execution_count": 4,
   "id": "d2b73f24-1712-466e-8a82-38c3cc8c7765",
   "metadata": {},
   "outputs": [
    {
     "ename": "NameError",
     "evalue": "name 'model' is not defined",
     "output_type": "error",
     "traceback": [
      "\u001b[1;31m---------------------------------------------------------------------------\u001b[0m",
      "\u001b[1;31mNameError\u001b[0m                                 Traceback (most recent call last)",
      "Cell \u001b[1;32mIn[4], line 2\u001b[0m\n\u001b[0;32m      1\u001b[0m custom_text \u001b[38;5;241m=\u001b[39m [\u001b[38;5;124m\"\u001b[39m\u001b[38;5;124mA Love Divided Two people from rival families fall in love, but their relationship is tested by betrayal, secrets, and the expectations of their families.\u001b[39m\u001b[38;5;124m\"\u001b[39m]\n\u001b[1;32m----> 2\u001b[0m predict(custom_text,\u001b[43mmodel\u001b[49m,vectorizer)\n\u001b[0;32m      3\u001b[0m \u001b[38;5;28;01mwhile\u001b[39;00m \u001b[38;5;28;01mTrue\u001b[39;00m:\n\u001b[0;32m      4\u001b[0m     sisend \u001b[38;5;241m=\u001b[39m \u001b[38;5;28minput\u001b[39m(\u001b[38;5;124m\"\u001b[39m\u001b[38;5;124mSisesta argument: \u001b[39m\u001b[38;5;124m\"\u001b[39m)\n",
      "\u001b[1;31mNameError\u001b[0m: name 'model' is not defined"
     ]
    }
   ],
   "source": [
    "custom_text = [\"A Love Divided Two people from rival families fall in love, but their relationship is tested by betrayal, secrets, and the expectations of their families.\"]\n",
    "predict(custom_text,model,vectorizer)\n",
    "while True:\n",
    "    sisend = input(\"Sisesta argument: \")\n",
    "    if sisend.lower() == 'stop':\n",
    "        break\n",
    "    predict(sisend.lower(),model,vectorizer)"
   ]
  }
 ],
 "metadata": {
  "kernelspec": {
   "display_name": "Python 3 (ipykernel)",
   "language": "python",
   "name": "python3"
  },
  "language_info": {
   "codemirror_mode": {
    "name": "ipython",
    "version": 3
   },
   "file_extension": ".py",
   "mimetype": "text/x-python",
   "name": "python",
   "nbconvert_exporter": "python",
   "pygments_lexer": "ipython3",
   "version": "3.10.13"
  }
 },
 "nbformat": 4,
 "nbformat_minor": 5
}
